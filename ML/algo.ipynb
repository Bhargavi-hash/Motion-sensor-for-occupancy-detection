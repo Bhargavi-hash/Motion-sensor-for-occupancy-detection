{
 "cells": [
  {
   "cell_type": "code",
   "execution_count": 1,
   "metadata": {},
   "outputs": [
    {
     "name": "stdout",
     "output_type": "stream",
     "text": [
      "(1201, 7)\n",
      "1201\n"
     ]
    },
    {
     "data": {
      "text/html": [
       "<div>\n",
       "<style scoped>\n",
       "    .dataframe tbody tr th:only-of-type {\n",
       "        vertical-align: middle;\n",
       "    }\n",
       "\n",
       "    .dataframe tbody tr th {\n",
       "        vertical-align: top;\n",
       "    }\n",
       "\n",
       "    .dataframe thead th {\n",
       "        text-align: right;\n",
       "    }\n",
       "</style>\n",
       "<table border=\"1\" class=\"dataframe\">\n",
       "  <thead>\n",
       "    <tr style=\"text-align: right;\">\n",
       "      <th></th>\n",
       "      <th>pir_state</th>\n",
       "      <th>t_temp</th>\n",
       "      <th>field1</th>\n",
       "      <th>field2</th>\n",
       "      <th>field3</th>\n",
       "      <th>field4</th>\n",
       "      <th>count</th>\n",
       "    </tr>\n",
       "  </thead>\n",
       "  <tbody>\n",
       "    <tr>\n",
       "      <th>0</th>\n",
       "      <td>1</td>\n",
       "      <td>28</td>\n",
       "      <td>25.00,24.75,24.75,24.50,24.75,24.75,24.50,23.5...</td>\n",
       "      <td>26.75,26.75,27.50,26.00,27.25,27.25,25.25,26.2...</td>\n",
       "      <td>27.50,27.25,26.75,24.75,26.25,25.75,24.00,26.0...</td>\n",
       "      <td>28.00,28.75,25.75,24.75,24.50,25.25,24.25,25.5...</td>\n",
       "      <td>1</td>\n",
       "    </tr>\n",
       "    <tr>\n",
       "      <th>1</th>\n",
       "      <td>1</td>\n",
       "      <td>28</td>\n",
       "      <td>25.00,24.00,24.75,24.50,25.00,25.25,25.75,24.5...</td>\n",
       "      <td>25.75,25.00,25.00,25.75,27.25,27.00,27.25,26.5...</td>\n",
       "      <td>24.50,24.75,24.50,24.75,25.50,27.25,28.00,26.5...</td>\n",
       "      <td>25.00,25.00,24.50,24.25,24.50,27.50,29.00,26.0...</td>\n",
       "      <td>1</td>\n",
       "    </tr>\n",
       "    <tr>\n",
       "      <th>2</th>\n",
       "      <td>0</td>\n",
       "      <td>30</td>\n",
       "      <td>24.75,24.25,24.25,24.00,24.50,23.75,25.00,24.0...</td>\n",
       "      <td>25.00,24.50,24.25,25.25,26.75,26.25,24.75,25.7...</td>\n",
       "      <td>24.75,24.50,24.50,24.25,25.25,24.75,25.75,25.7...</td>\n",
       "      <td>25.00,25.00,24.50,23.75,24.00,24.00,24.25,25.7...</td>\n",
       "      <td>1</td>\n",
       "    </tr>\n",
       "    <tr>\n",
       "      <th>3</th>\n",
       "      <td>0</td>\n",
       "      <td>30</td>\n",
       "      <td>25.25,24.25,24.75,24.00,24.50,24.25,24.50,24.5...</td>\n",
       "      <td>25.75,24.50,24.75,25.75,27.50,25.75,25.25,25.5...</td>\n",
       "      <td>24.75,24.75,24.50,24.00,25.75,25.00,24.50,25.2...</td>\n",
       "      <td>24.50,24.75,24.75,23.75,24.25,25.00,24.25,24.5...</td>\n",
       "      <td>1</td>\n",
       "    </tr>\n",
       "    <tr>\n",
       "      <th>4</th>\n",
       "      <td>0</td>\n",
       "      <td>29</td>\n",
       "      <td>24.00,24.25,24.50,24.25,24.75,24.25,24.50,24.0...</td>\n",
       "      <td>25.50,25.00,24.50,26.00,27.50,25.75,24.75,25.2...</td>\n",
       "      <td>24.50,24.50,24.25,24.25,26.00,24.75,24.00,25.5...</td>\n",
       "      <td>24.75,24.75,23.75,23.50,24.00,24.00,24.25,24.5...</td>\n",
       "      <td>1</td>\n",
       "    </tr>\n",
       "  </tbody>\n",
       "</table>\n",
       "</div>"
      ],
      "text/plain": [
       "   pir_state  t_temp                                             field1  \\\n",
       "0          1      28  25.00,24.75,24.75,24.50,24.75,24.75,24.50,23.5...   \n",
       "1          1      28  25.00,24.00,24.75,24.50,25.00,25.25,25.75,24.5...   \n",
       "2          0      30  24.75,24.25,24.25,24.00,24.50,23.75,25.00,24.0...   \n",
       "3          0      30  25.25,24.25,24.75,24.00,24.50,24.25,24.50,24.5...   \n",
       "4          0      29  24.00,24.25,24.50,24.25,24.75,24.25,24.50,24.0...   \n",
       "\n",
       "                                              field2  \\\n",
       "0  26.75,26.75,27.50,26.00,27.25,27.25,25.25,26.2...   \n",
       "1  25.75,25.00,25.00,25.75,27.25,27.00,27.25,26.5...   \n",
       "2  25.00,24.50,24.25,25.25,26.75,26.25,24.75,25.7...   \n",
       "3  25.75,24.50,24.75,25.75,27.50,25.75,25.25,25.5...   \n",
       "4  25.50,25.00,24.50,26.00,27.50,25.75,24.75,25.2...   \n",
       "\n",
       "                                              field3  \\\n",
       "0  27.50,27.25,26.75,24.75,26.25,25.75,24.00,26.0...   \n",
       "1  24.50,24.75,24.50,24.75,25.50,27.25,28.00,26.5...   \n",
       "2  24.75,24.50,24.50,24.25,25.25,24.75,25.75,25.7...   \n",
       "3  24.75,24.75,24.50,24.00,25.75,25.00,24.50,25.2...   \n",
       "4  24.50,24.50,24.25,24.25,26.00,24.75,24.00,25.5...   \n",
       "\n",
       "                                              field4  count  \n",
       "0  28.00,28.75,25.75,24.75,24.50,25.25,24.25,25.5...      1  \n",
       "1  25.00,25.00,24.50,24.25,24.50,27.50,29.00,26.0...      1  \n",
       "2  25.00,25.00,24.50,23.75,24.00,24.00,24.25,25.7...      1  \n",
       "3  24.50,24.75,24.75,23.75,24.25,25.00,24.25,24.5...      1  \n",
       "4  24.75,24.75,23.75,23.50,24.00,24.00,24.25,24.5...      1  "
      ]
     },
     "execution_count": 1,
     "metadata": {},
     "output_type": "execute_result"
    }
   ],
   "source": [
    "import numpy as np\n",
    "import pandas as pd\n",
    "import seaborn as sns\n",
    "import matplotlib.pyplot as plt\n",
    "\n",
    "data = pd.read_csv('sample_us.csv')\n",
    "rows = data.shape[0]\n",
    "print(data.shape)\n",
    "print(rows)\n",
    "data.head()"
   ]
  },
  {
   "cell_type": "code",
   "execution_count": 2,
   "metadata": {},
   "outputs": [],
   "source": [
    "# converting the string type data present in csv file to float and storing it in row x 64 array.\n",
    "# pir_state, t_temp, field1, field2 , field3, field4, count\n",
    "\n",
    "temps = np.zeros((rows, 64)) #this contains \n",
    "\n",
    "\n",
    "def convert_it(g_field, index):\n",
    "    row_index = 0\n",
    "\n",
    "    for i in g_field:    \n",
    "        col_index = index\n",
    "\n",
    "        x = 0\n",
    "        count = 0\n",
    "        for j in i :     \n",
    "\n",
    "            if j == ',':\n",
    "                x = 0\n",
    "            elif j == '.':\n",
    "                count = 1        \n",
    "            elif count > 0:\n",
    "                x = x*10 + int(j)\n",
    "                count = count + 1\n",
    "            else :\n",
    "                x = x*10 + int(j)\n",
    "        \n",
    "            if count >= 3:\n",
    "                count = 0\n",
    "                x = x/100.0\n",
    "                temps[row_index][col_index] = x\n",
    "                col_index = col_index + 1\n",
    "\n",
    "        row_index = row_index + 1\n",
    "\n",
    "convert_it(data.field1, 0)\n",
    "convert_it(data.field2, 16)\n",
    "convert_it(data.field3, 32)\n",
    "convert_it(data.field4, 48)\n"
   ]
  },
  {
   "cell_type": "code",
   "execution_count": 3,
   "metadata": {},
   "outputs": [
    {
     "data": {
      "text/html": [
       "<div>\n",
       "<style scoped>\n",
       "    .dataframe tbody tr th:only-of-type {\n",
       "        vertical-align: middle;\n",
       "    }\n",
       "\n",
       "    .dataframe tbody tr th {\n",
       "        vertical-align: top;\n",
       "    }\n",
       "\n",
       "    .dataframe thead th {\n",
       "        text-align: right;\n",
       "    }\n",
       "</style>\n",
       "<table border=\"1\" class=\"dataframe\">\n",
       "  <thead>\n",
       "    <tr style=\"text-align: right;\">\n",
       "      <th></th>\n",
       "      <th>pir_state</th>\n",
       "      <th>count</th>\n",
       "    </tr>\n",
       "  </thead>\n",
       "  <tbody>\n",
       "    <tr>\n",
       "      <th>0</th>\n",
       "      <td>1</td>\n",
       "      <td>1</td>\n",
       "    </tr>\n",
       "    <tr>\n",
       "      <th>1</th>\n",
       "      <td>1</td>\n",
       "      <td>1</td>\n",
       "    </tr>\n",
       "    <tr>\n",
       "      <th>2</th>\n",
       "      <td>0</td>\n",
       "      <td>1</td>\n",
       "    </tr>\n",
       "    <tr>\n",
       "      <th>3</th>\n",
       "      <td>0</td>\n",
       "      <td>1</td>\n",
       "    </tr>\n",
       "    <tr>\n",
       "      <th>4</th>\n",
       "      <td>0</td>\n",
       "      <td>1</td>\n",
       "    </tr>\n",
       "  </tbody>\n",
       "</table>\n",
       "</div>"
      ],
      "text/plain": [
       "   pir_state  count\n",
       "0          1      1\n",
       "1          1      1\n",
       "2          0      1\n",
       "3          0      1\n",
       "4          0      1"
      ]
     },
     "execution_count": 3,
     "metadata": {},
     "output_type": "execute_result"
    }
   ],
   "source": [
    "#preparing training data\n",
    "data.drop(['t_temp','field1','field2','field3','field4'],axis=1,inplace=True)\n",
    "data.head()"
   ]
  },
  {
   "cell_type": "code",
   "execution_count": 4,
   "metadata": {},
   "outputs": [
    {
     "data": {
      "image/png": "[encoded data removed]",
      "text/plain": [
       "<Figure size 640x480 with 2 Axes>"
      ]
     },
     "metadata": {},
     "output_type": "display_data"
    }
   ],
   "source": [
    "# trial = temps[800].reshape(8,8)\n",
    "# ax = sns.heatmap(trial, linewidth=0.5, cmap = 'YlOrBr')\n",
    "# plt.show()\n",
    "\n",
    "# # coolwarm, YlGnBu, YlOrBr\n"
   ]
  },
  {
   "cell_type": "code",
   "execution_count": 5,
   "metadata": {},
   "outputs": [
    {
     "name": "stdout",
     "output_type": "stream",
     "text": [
      "25.8984375\n"
     ]
    },
    {
     "data": {
      "image/png": "[encoded data removed]",
      "text/plain": [
       "<Figure size 640x480 with 1 Axes>"
      ]
     },
     "metadata": {},
     "output_type": "display_data"
    }
   ],
   "source": [
    "# avg_temp = np.average(trial)\n",
    "# print(avg_temp)\n",
    "\n",
    "# active_temp = avg_temp + 1 # 1.5 or 2\n",
    "\n",
    "# cells = temps[800].reshape(8,8)\n",
    "\n",
    "# for i in range(8):\n",
    "#     for j in range(8):\n",
    "#         if(cells[i][j] >= active_temp):\n",
    "#             cells[i][j] = 1\n",
    "#         else:\n",
    "#             cells[i][j] = 0\n",
    "\n",
    "# # ax = sns.heatmap(cells, linewidth=0.5, cmap = 'hot')\n",
    "# # plt.show()\n",
    "\n",
    "# plt.imshow( cells , cmap = 'hot' , interpolation = 'nearest' ) \n",
    "\n",
    "# plt.show()\n"
   ]
  },
  {
   "cell_type": "code",
   "execution_count": 6,
   "metadata": {},
   "outputs": [
    {
     "data": {
      "text/html": [
       "<div>\n",
       "<style scoped>\n",
       "    .dataframe tbody tr th:only-of-type {\n",
       "        vertical-align: middle;\n",
       "    }\n",
       "\n",
       "    .dataframe tbody tr th {\n",
       "        vertical-align: top;\n",
       "    }\n",
       "\n",
       "    .dataframe thead th {\n",
       "        text-align: right;\n",
       "    }\n",
       "</style>\n",
       "<table border=\"1\" class=\"dataframe\">\n",
       "  <thead>\n",
       "    <tr style=\"text-align: right;\">\n",
       "      <th></th>\n",
       "      <th>pir_state</th>\n",
       "      <th>count</th>\n",
       "    </tr>\n",
       "  </thead>\n",
       "  <tbody>\n",
       "    <tr>\n",
       "      <th>0</th>\n",
       "      <td>1</td>\n",
       "      <td>1</td>\n",
       "    </tr>\n",
       "    <tr>\n",
       "      <th>1</th>\n",
       "      <td>1</td>\n",
       "      <td>1</td>\n",
       "    </tr>\n",
       "    <tr>\n",
       "      <th>2</th>\n",
       "      <td>0</td>\n",
       "      <td>1</td>\n",
       "    </tr>\n",
       "    <tr>\n",
       "      <th>3</th>\n",
       "      <td>0</td>\n",
       "      <td>1</td>\n",
       "    </tr>\n",
       "    <tr>\n",
       "      <th>4</th>\n",
       "      <td>0</td>\n",
       "      <td>1</td>\n",
       "    </tr>\n",
       "  </tbody>\n",
       "</table>\n",
       "</div>"
      ],
      "text/plain": [
       "   pir_state  count\n",
       "0          1      1\n",
       "1          1      1\n",
       "2          0      1\n",
       "3          0      1\n",
       "4          0      1"
      ]
     },
     "execution_count": 6,
     "metadata": {},
     "output_type": "execute_result"
    }
   ],
   "source": [
    "# preparing data to train\n",
    "data.head()\n"
   ]
  },
  {
   "cell_type": "code",
   "execution_count": 7,
   "metadata": {},
   "outputs": [],
   "source": [
    "\n",
    "def doit(arr, count, visited, i, j):\n",
    "    if(i < 0 or i > 7 or j < 0 or j > 7):return count \n",
    "    elif(visited[i][j] != 0):return count \n",
    "    elif(arr[i][j] == 0):return count \n",
    "\n",
    "    if(arr[i][j] == 1):\n",
    "        visited[i][j] = 1\n",
    "        arr[i][j] = 0\n",
    "        count = count + 1\n",
    "        count = doit(arr, count, visited, i+1, j)\n",
    "        count = doit(arr, count, visited, i-1, j)\n",
    "        count = doit(arr, count, visited, i, j+1)\n",
    "        count = doit(arr, count, visited, i, j-1)\n",
    "\n",
    "        return count\n",
    "\n",
    "\n",
    "\n",
    "def find_blob_sizes(arr):\n",
    "    visited = np.zeros((8,8))\n",
    "    count = 0\n",
    "    ret = []\n",
    "    for i in range(8):\n",
    "        for j in range(8):\n",
    "            if visited[i][j] == 1:\n",
    "                continue\n",
    "            count = doit(arr, count, visited, i, j)\n",
    "            if count > 0 :\n",
    "                #print(count)\n",
    "                ret.append(count)\n",
    "                count = 0\n",
    "    \n",
    "    return ret \n",
    "\n",
    "\n",
    "# arr = np.array([[1, 1, 1, 0, 0, 0, 0, 1],\n",
    "#                 [1,1,0,1,0,0,1,0],\n",
    "#                 [1,0,0,1,0,0,0,0],\n",
    "#                 [0,0,0,0,0,0,1,1],\n",
    "#                 [0,0,0,1,1,1,1,1],\n",
    "#                 [0,0,0,0,0,0,0,0],\n",
    "#                 [1,1,1,1,1,1,1,1],\n",
    "#                 [1,1,1,1,1,1,0,0]])\n",
    "\n",
    "\n",
    "# ans = findSizes(arr)\n",
    "\n",
    "# ans.sort(reverse = True)\n",
    "\n",
    "\n",
    "# for i in ans:\n",
    "#     print(i)\n",
    "# print()\n"
   ]
  },
  {
   "cell_type": "code",
   "execution_count": 8,
   "metadata": {},
   "outputs": [
    {
     "data": {
      "text/html": [
       "<div>\n",
       "<style scoped>\n",
       "    .dataframe tbody tr th:only-of-type {\n",
       "        vertical-align: middle;\n",
       "    }\n",
       "\n",
       "    .dataframe tbody tr th {\n",
       "        vertical-align: top;\n",
       "    }\n",
       "\n",
       "    .dataframe thead th {\n",
       "        text-align: right;\n",
       "    }\n",
       "</style>\n",
       "<table border=\"1\" class=\"dataframe\">\n",
       "  <thead>\n",
       "    <tr style=\"text-align: right;\">\n",
       "      <th></th>\n",
       "      <th>pir_state</th>\n",
       "      <th>count</th>\n",
       "      <th>first_blob</th>\n",
       "      <th>second_blob</th>\n",
       "      <th>third_blob</th>\n",
       "      <th>mean</th>\n",
       "      <th>sd</th>\n",
       "      <th>no_of_active_cells</th>\n",
       "    </tr>\n",
       "  </thead>\n",
       "  <tbody>\n",
       "    <tr>\n",
       "      <th>0</th>\n",
       "      <td>1</td>\n",
       "      <td>1</td>\n",
       "      <td>14</td>\n",
       "      <td>4</td>\n",
       "      <td>0</td>\n",
       "      <td>25.675781</td>\n",
       "      <td>1.216488</td>\n",
       "      <td>18</td>\n",
       "    </tr>\n",
       "    <tr>\n",
       "      <th>1</th>\n",
       "      <td>1</td>\n",
       "      <td>1</td>\n",
       "      <td>13</td>\n",
       "      <td>0</td>\n",
       "      <td>0</td>\n",
       "      <td>25.617188</td>\n",
       "      <td>1.302018</td>\n",
       "      <td>13</td>\n",
       "    </tr>\n",
       "    <tr>\n",
       "      <th>2</th>\n",
       "      <td>0</td>\n",
       "      <td>1</td>\n",
       "      <td>3</td>\n",
       "      <td>1</td>\n",
       "      <td>0</td>\n",
       "      <td>24.804688</td>\n",
       "      <td>0.699426</td>\n",
       "      <td>4</td>\n",
       "    </tr>\n",
       "    <tr>\n",
       "      <th>3</th>\n",
       "      <td>0</td>\n",
       "      <td>1</td>\n",
       "      <td>2</td>\n",
       "      <td>0</td>\n",
       "      <td>0</td>\n",
       "      <td>24.886719</td>\n",
       "      <td>0.705627</td>\n",
       "      <td>2</td>\n",
       "    </tr>\n",
       "    <tr>\n",
       "      <th>4</th>\n",
       "      <td>0</td>\n",
       "      <td>1</td>\n",
       "      <td>6</td>\n",
       "      <td>0</td>\n",
       "      <td>0</td>\n",
       "      <td>24.699219</td>\n",
       "      <td>0.783347</td>\n",
       "      <td>6</td>\n",
       "    </tr>\n",
       "  </tbody>\n",
       "</table>\n",
       "</div>"
      ],
      "text/plain": [
       "   pir_state  count  first_blob  second_blob  third_blob       mean        sd  \\\n",
       "0          1      1          14            4           0  25.675781  1.216488   \n",
       "1          1      1          13            0           0  25.617188  1.302018   \n",
       "2          0      1           3            1           0  24.804688  0.699426   \n",
       "3          0      1           2            0           0  24.886719  0.705627   \n",
       "4          0      1           6            0           0  24.699219  0.783347   \n",
       "\n",
       "   no_of_active_cells  \n",
       "0                  18  \n",
       "1                  13  \n",
       "2                   4  \n",
       "3                   2  \n",
       "4                   6  "
      ]
     },
     "execution_count": 8,
     "metadata": {},
     "output_type": "execute_result"
    }
   ],
   "source": [
    "\n",
    "first_blob=[]\n",
    "second_blob=[]\n",
    "third_blob=[]\n",
    "mean_list=[]\n",
    "sd_list=[]\n",
    "active_list=[]\n",
    "for i in temps: # for each row in temps (64 values 1 D aray)\n",
    "\n",
    "    avg_temp=np.average(i)\n",
    "    cells=i.reshape(8,8) # this is 8x8 numpy array\n",
    "    standard_deviation = np.std(cells) # calculate sd of the pixel matrix\n",
    "    count_actv_cells = 0\n",
    "    threshhold_temp = avg_temp + 1 #2 or 1.5 whatever\n",
    "    for a in range(8):\n",
    "        for r in range(8) :\n",
    "            if( cells[a][r] >= threshhold_temp): \n",
    "                cells[a][r] = 1\n",
    "                count_actv_cells+=1\n",
    "            else: cells[a][r] = 0\n",
    "    \n",
    "    ans = find_blob_sizes(cells)   #This modifies cells and all values will be zero.\n",
    "    ans.sort(reverse = True)\n",
    "    \n",
    "    # attributes to be used as independent variables\n",
    "    if len(ans)>0:\n",
    "        first = ans[0] # 1st biggest blob size\n",
    "    else: first = 0\n",
    "    if len(ans)>1:\n",
    "        second = ans[1] # 2nd biggest blob size\n",
    "    else :\n",
    "        second =0\n",
    "    if len(ans)>2:\n",
    "        third = ans[2] # 3rd biggest blob size\n",
    "    else: third = 0\n",
    "    mean = avg_temp\n",
    "    sd = standard_deviation # standard deviation\n",
    "    active_cells = count_actv_cells\n",
    "    #pir_status = its already there in dataframe.\n",
    "\n",
    "    #adding data to column lists\n",
    "    first_blob.append(first)\n",
    "    second_blob.append(second)\n",
    "    third_blob.append(third)\n",
    "    mean_list.append(mean)\n",
    "    sd_list.append(sd)\n",
    "    active_list.append(active_cells)\n",
    "    \n",
    "\n",
    "data[\"first_blob\"] = first_blob\n",
    "data[\"second_blob\"] = second_blob\n",
    "data[\"third_blob\"] = third_blob\n",
    "data[\"mean\"] = mean_list\n",
    "data[\"sd\"] = sd_list\n",
    "data[\"no_of_active_cells\"] = active_list\n",
    "\n",
    "data.head()\n"
   ]
  },
  {
   "cell_type": "code",
   "execution_count": 9,
   "metadata": {},
   "outputs": [],
   "source": [
    "# dependent and independent variables\n",
    "# Putting feature variable to X\n",
    "X=data.drop(['count'],axis=1)\n",
    "# Putting response variable to y\n",
    "y = data['count']"
   ]
  },
  {
   "cell_type": "code",
   "execution_count": 10,
   "metadata": {},
   "outputs": [
    {
     "data": {
      "text/plain": [
       "((840, 7), (361, 7))"
      ]
     },
     "execution_count": 10,
     "metadata": {},
     "output_type": "execute_result"
    }
   ],
   "source": [
    "# Train-Test-Split \n",
    "\n",
    "# now lets split the data into train and test\n",
    "from sklearn.model_selection import train_test_split\n",
    "# Splitting the data into train and test\n",
    "X_train, X_test, y_train, y_test = train_test_split(X, y, test_size=0.3, random_state=1)\n",
    "X_train.shape, X_test.shape"
   ]
  },
  {
   "cell_type": "markdown",
   "metadata": {},
   "source": [
    "## Training the Model\n"
   ]
  },
  {
   "cell_type": "code",
   "execution_count": 11,
   "metadata": {},
   "outputs": [],
   "source": [
    "# Using Random Forest Classifier algorithm to predict the weather\n",
    "# Training model on test data\n",
    "\n",
    "from sklearn.ensemble import RandomForestClassifier\n",
    "\n",
    "RF = RandomForestClassifier(max_depth=32,n_estimators=40,random_state=1)\n",
    "RF.fit(X_train,y_train)\n",
    "y_pred = RF.predict(X_test)"
   ]
  },
  {
   "cell_type": "markdown",
   "metadata": {},
   "source": [
    "## Measuring accuracy"
   ]
  },
  {
   "cell_type": "code",
   "execution_count": 12,
   "metadata": {},
   "outputs": [
    {
     "data": {
      "text/plain": [
       "0.853185595567867"
      ]
     },
     "execution_count": 12,
     "metadata": {},
     "output_type": "execute_result"
    }
   ],
   "source": [
    "# Finding accuracy of model using test data\n",
    "from sklearn.metrics import accuracy_score\n",
    "accuracy_score(y_test, y_pred)"
   ]
  },
  {
   "cell_type": "code",
   "execution_count": 13,
   "metadata": {},
   "outputs": [
    {
     "data": {
      "text/plain": [
       "array([0.03598243, 0.1362249 , 0.0822044 , 0.03051061, 0.26789646,\n",
       "       0.24118785, 0.20599335])"
      ]
     },
     "execution_count": 13,
     "metadata": {},
     "output_type": "execute_result"
    }
   ],
   "source": [
    "# To see importance of each variable in prediction\n",
    "RF.feature_importances_"
   ]
  }
 ],
 "metadata": {
  "kernelspec": {
   "display_name": "Python 3.10.7 64-bit",
   "language": "python",
   "name": "python3"
  },
  "language_info": {
   "codemirror_mode": {
    "name": "ipython",
    "version": 3
   },
   "file_extension": ".py",
   "mimetype": "text/x-python",
   "name": "python",
   "nbconvert_exporter": "python",
   "pygments_lexer": "ipython3",
   "version": "3.10.7"
  },
  "orig_nbformat": 4,
  "vscode": {
   "interpreter": {
    "hash": "26de051ba29f2982a8de78e945f0abaf191376122a1563185a90213a26c5da77"
   }
  }
 },
 "nbformat": 4,
 "nbformat_minor": 2
}
