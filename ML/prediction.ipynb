{
 "cells": [
  {
   "cell_type": "code",
   "execution_count": 9,
   "metadata": {},
   "outputs": [],
   "source": [
    "import numpy as np\n",
    "import pandas as pd\n",
    "import seaborn as sns\n",
    "import matplotlib.pyplot as plt"
   ]
  },
  {
   "cell_type": "markdown",
   "metadata": {},
   "source": [
    "## Input"
   ]
  },
  {
   "cell_type": "code",
   "execution_count": 10,
   "metadata": {},
   "outputs": [],
   "source": [
    "pir_status = 1 # or 0 which we get from thingspeak\n",
    "pixel_matrix_list = [[26.75 ,26.75, 25.50,  25.50,  25.50,  25.25, 25.00,   24.25],\n",
    " [26.00,   25.50,  25.50,  25.00,24.75 ,24.50,  24.25, 24.50],\n",
    " [  27.00,   26.00,   25.25, 24.75, 24.75, 24.50,  24.50,  24.25],\n",
    " [27.00,   26.50,  25.25, 25.00,   24.50,  24.50,  24.25, 24.75],\n",
    " [ 27.25, 25.00,   25.00,   24.75,24.25 ,24.75, 24.25, 24.25],\n",
    " [ 27.50, 24.75, 24.75, 24.75, 24.75, 24.50,  24.25, 23.75],\n",
    " [26.75, 25.25, 25.00,   24.50,  24.75, 24.50,  25.00,   24.00],\n",
    " [25.25 ,25.00,   24.75, 24.50, 24.00,   24.00,   24.00,   23.50] ] # list of lists derived from thingspeak data\n",
    "\n",
    "#print(pixel_matrix_list)\n",
    "\n",
    "cells = np.array(pixel_matrix_list) # this is 8x8 numpy array\n",
    "#print(cells)"
   ]
  },
  {
   "cell_type": "markdown",
   "metadata": {},
   "source": [
    "## Heat map"
   ]
  },
  {
   "cell_type": "code",
   "execution_count": 11,
   "metadata": {},
   "outputs": [
    {
     "data": {
      "image/png": "[encoded data removed]",
      "text/plain": [
       "<Figure size 640x480 with 2 Axes>"
      ]
     },
     "metadata": {},
     "output_type": "display_data"
    }
   ],
   "source": [
    "## heat map  plot\n",
    "heat_map = cells\n",
    "ax = sns.heatmap(heat_map, linewidth=0.5, cmap = 'YlOrBr')\n",
    "plt.show()"
   ]
  },
  {
   "cell_type": "code",
   "execution_count": 12,
   "metadata": {},
   "outputs": [],
   "source": [
    "\n",
    "avg_temp=np.average(cells)\n",
    "standard_deviation = np.std(cells) # calculate sd of the pixel matrix\n",
    "count_actv_cells = 0\n",
    "threshhold_temp = avg_temp + 0.75 # 1 #2 or 1.5 whatever\n",
    "for a in range(8):\n",
    "    for r in range(8) :\n",
    "        if( cells[a][r] >= threshhold_temp): \n",
    "            cells[a][r] = 1\n",
    "            count_actv_cells+=1\n",
    "        else: cells[a][r] = 0\n",
    "\n"
   ]
  },
  {
   "cell_type": "markdown",
   "metadata": {},
   "source": [
    "## Pixelated image"
   ]
  },
  {
   "cell_type": "code",
   "execution_count": 13,
   "metadata": {},
   "outputs": [
    {
     "data": {
      "image/png": "[encoded data removed]",
      "text/plain": [
       "<Figure size 640x480 with 1 Axes>"
      ]
     },
     "metadata": {},
     "output_type": "display_data"
    }
   ],
   "source": [
    "# pixelated image plot\n",
    "pixelated_image = cells\n",
    "plt.imshow( pixelated_image , cmap = 'hot' , interpolation = 'nearest' ) \n",
    "plt.show()\n"
   ]
  },
  {
   "cell_type": "code",
   "execution_count": 14,
   "metadata": {},
   "outputs": [],
   "source": [
    "def doit(arr, count, visited, i, j):\n",
    "    if(i < 0 or i > 7 or j < 0 or j > 7):return count \n",
    "    elif(visited[i][j] != 0):return count \n",
    "    elif(arr[i][j] == 0):return count \n",
    "\n",
    "    if(arr[i][j] == 1):\n",
    "        visited[i][j] = 1\n",
    "        arr[i][j] = 0\n",
    "        count = count + 1\n",
    "        count = doit(arr, count, visited, i+1, j)\n",
    "        count = doit(arr, count, visited, i-1, j)\n",
    "        count = doit(arr, count, visited, i, j+1)\n",
    "        count = doit(arr, count, visited, i, j-1)\n",
    "\n",
    "        return count\n",
    "\n",
    "\n",
    "\n",
    "def find_blob_sizes(arr):\n",
    "    visited = np.zeros((8,8))\n",
    "    count = 0\n",
    "    ret = []\n",
    "    for i in range(8):\n",
    "        for j in range(8):\n",
    "            if visited[i][j] == 1:\n",
    "                continue\n",
    "            count = doit(arr, count, visited, i, j)\n",
    "            if count > 0 :\n",
    "                #print(count)\n",
    "                ret.append(count)\n",
    "                count = 0\n",
    "    \n",
    "    return ret \n"
   ]
  },
  {
   "cell_type": "markdown",
   "metadata": {},
   "source": [
    "## Creating input to model"
   ]
  },
  {
   "cell_type": "code",
   "execution_count": 15,
   "metadata": {},
   "outputs": [],
   "source": [
    "\n",
    "ans = find_blob_sizes(cells)   #This modifies cells and all values will be zero.\n",
    "ans.sort(reverse = True)\n",
    "\n",
    "# attributes to be used as independent variables\n",
    "if len(ans)>0:\n",
    "    first = ans[0] # 1st biggest blob size\n",
    "else: first = 0\n",
    "if len(ans)>1:\n",
    "    second = ans[1] # 2nd biggest blob size\n",
    "else :\n",
    "    second =0\n",
    "if len(ans)>2:\n",
    "    third = ans[2] # 3rd biggest blob size\n",
    "else: third = 0\n",
    "\n",
    "mydataset = {\n",
    "  'pir_state' : [pir_status],\n",
    "  'first_blob' : [first],\n",
    "  'second_blob' : [second],\n",
    "  'third_blob' : [third],\n",
    "  'mean' : [avg_temp],\n",
    "  'sd' : [standard_deviation], # standard deviation\n",
    "  'no_of_active_cells' : [count_actv_cells]\n",
    "}\n",
    "\n",
    "input = pd.DataFrame(mydataset)"
   ]
  },
  {
   "cell_type": "markdown",
   "metadata": {},
   "source": [
    "## prediction using the model"
   ]
  },
  {
   "cell_type": "code",
   "execution_count": 16,
   "metadata": {},
   "outputs": [
    {
     "name": "stdout",
     "output_type": "stream",
     "text": [
      "predicted no.of people =  5\n"
     ]
    }
   ],
   "source": [
    "import pickle\n",
    "from joblib import Parallel, delayed\n",
    "import joblib\n",
    "\n",
    "# Load the model from the file\n",
    "esw_model = joblib.load('j_model.pkl')\n",
    "  \n",
    "# Use the loaded model to make predictions\n",
    "output = esw_model.predict(input)\n",
    "print(\"predicted no.of people = \",output[0])\n"
   ]
  }
 ],
 "metadata": {
  "kernelspec": {
   "display_name": "Python 3.10.7 64-bit",
   "language": "python",
   "name": "python3"
  },
  "language_info": {
   "codemirror_mode": {
    "name": "ipython",
    "version": 3
   },
   "file_extension": ".py",
   "mimetype": "text/x-python",
   "name": "python",
   "nbconvert_exporter": "python",
   "pygments_lexer": "ipython3",
   "version": "3.10.7"
  },
  "orig_nbformat": 4,
  "vscode": {
   "interpreter": {
    "hash": "26de051ba29f2982a8de78e945f0abaf191376122a1563185a90213a26c5da77"
   }
  }
 },
 "nbformat": 4,
 "nbformat_minor": 2
}
